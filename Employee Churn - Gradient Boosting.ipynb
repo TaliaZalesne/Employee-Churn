{
 "cells": [
  {
   "cell_type": "markdown",
   "id": "011977ed",
   "metadata": {
    "id": "011977ed"
   },
   "source": [
    "### Split data into two. \n",
    "#### One dataset of all employees (d.clean.preprocess) and another of what will only contain active employees (d.clean.preprocess_two)"
   ]
  },
  {
   "cell_type": "code",
   "execution_count": null,
   "id": "84020bec",
   "metadata": {
    "executionInfo": {
     "elapsed": 272,
     "status": "ok",
     "timestamp": 1646102908615,
     "user": {
      "displayName": "Sara Tanabe",
      "photoUrl": "https://lh3.googleusercontent.com/a/default-user=s64",
      "userId": "01325243002204882362"
     },
     "user_tz": 420
    },
    "id": "84020bec"
   },
   "outputs": [],
   "source": [
    "# Split off the data into d.clean.preprocess_two before we drop Employee_Status\n",
    "d.clean.preprocess_two = d.clean.preprocess.copy()\n",
    "\n",
    "# and d.clean (without Employee_Status)\n",
    "d.clean.preprocess.drop('Employee_Status', axis = 1, inplace = True)"
   ]
  },
  {
   "cell_type": "markdown",
   "id": "971dd56e",
   "metadata": {
    "id": "971dd56e"
   },
   "source": [
    "### Gradient Boosting Training and Predictions on Full Dataset\n",
    "#### Current Employees AND Those Who Have Churned"
   ]
  },
  {
   "cell_type": "markdown",
   "id": "fd891a18",
   "metadata": {
    "id": "fd891a18"
   },
   "source": [
    "#### Import Libraries, copy the data"
   ]
  },
  {
   "cell_type": "code",
   "execution_count": null,
   "id": "ae709015",
   "metadata": {
    "executionInfo": {
     "elapsed": 261,
     "status": "ok",
     "timestamp": 1646102909883,
     "user": {
      "displayName": "Sara Tanabe",
      "photoUrl": "https://lh3.googleusercontent.com/a/default-user=s64",
      "userId": "01325243002204882362"
     },
     "user_tz": 420
    },
    "id": "ae709015"
   },
   "outputs": [],
   "source": [
    "from sklearn.ensemble import GradientBoostingClassifier\n",
    "from sklearn.model_selection import train_test_split\n",
    "from sklearn import metrics\n",
    "from sklearn.metrics import classification_report, confusion_matrix, roc_auc_score, RocCurveDisplay\n",
    "import matplotlib.pyplot as plt\n",
    "plt.style.use('default')"
   ]
  },
  {
   "cell_type": "markdown",
   "id": "7442393e",
   "metadata": {
    "id": "7442393e"
   },
   "source": [
    "Documentation\n",
    "\n",
    "\n",
    "https://scikit-learn.org/stable/modules/generated/sklearn.ensemble.GradientBoostingClassifier.html\n",
    "\n",
    "\n",
    "https://scikit-learn.org/stable/modules/generated/sklearn.metrics.roc_auc_score.html"
   ]
  },
  {
   "cell_type": "code",
   "execution_count": null,
   "id": "98e5ff39",
   "metadata": {
    "executionInfo": {
     "elapsed": 270,
     "status": "ok",
     "timestamp": 1646102910395,
     "user": {
      "displayName": "Sara Tanabe",
      "photoUrl": "https://lh3.googleusercontent.com/a/default-user=s64",
      "userId": "01325243002204882362"
     },
     "user_tz": 420
    },
    "id": "98e5ff39"
   },
   "outputs": [],
   "source": [
    "boost = d.clean.preprocess.copy()\n",
    "boost.dropna(axis=0, how='any', inplace=True)"
   ]
  },
  {
   "cell_type": "code",
   "execution_count": null,
   "id": "5f9664a4",
   "metadata": {
    "executionInfo": {
     "elapsed": 4,
     "status": "ok",
     "timestamp": 1646102910395,
     "user": {
      "displayName": "Sara Tanabe",
      "photoUrl": "https://lh3.googleusercontent.com/a/default-user=s64",
      "userId": "01325243002204882362"
     },
     "user_tz": 420
    },
    "id": "5f9664a4"
   },
   "outputs": [],
   "source": [
    "# Drop column(s) here:\n",
    "# boost.drop(labels='Compa_Ratio', axis=1, inplace=True)"
   ]
  },
  {
   "cell_type": "code",
   "execution_count": null,
   "id": "21172170",
   "metadata": {
    "colab": {
     "base_uri": "https://localhost:8080/"
    },
    "executionInfo": {
     "elapsed": 4,
     "status": "ok",
     "timestamp": 1646102910395,
     "user": {
      "displayName": "Sara Tanabe",
      "photoUrl": "https://lh3.googleusercontent.com/a/default-user=s64",
      "userId": "01325243002204882362"
     },
     "user_tz": 420
    },
    "id": "21172170",
    "outputId": "01a9e996-5472-4fe9-d0c1-ebb9cd7af09f"
   },
   "outputs": [],
   "source": [
    "boost.columns"
   ]
  },
  {
   "cell_type": "markdown",
   "id": "e31423fb",
   "metadata": {
    "id": "e31423fb"
   },
   "source": [
    "#### The three different models, described:\n",
    "\n",
    "    Model 1: Age = buckets       Position = Compensation Grade        Locale = Location\n",
    "    Model 2: Age = continuous    Position = Job Cat, Job Lvl (Sep)    Locale = Location\n",
    "    Model 3: Age = buckets       Position = Job Grp, Job Lvl (Sep)    Locale = Country"
   ]
  },
  {
   "cell_type": "markdown",
   "id": "566a6a2d",
   "metadata": {
    "id": "566a6a2d"
   },
   "source": [
    "#### Model 1 - Bucketed Age, Compensation Grade, Location"
   ]
  },
  {
   "cell_type": "code",
   "execution_count": null,
   "id": "62b789cf",
   "metadata": {
    "colab": {
     "base_uri": "https://localhost:8080/",
     "height": 0
    },
    "executionInfo": {
     "elapsed": 271,
     "status": "ok",
     "timestamp": 1646102910663,
     "user": {
      "displayName": "Sara Tanabe",
      "photoUrl": "https://lh3.googleusercontent.com/a/default-user=s64",
      "userId": "01325243002204882362"
     },
     "user_tz": 420
    },
    "id": "62b789cf",
    "outputId": "2bf2e05b-e8a7-4ec2-f3c1-543f6043810f"
   },
   "outputs": [],
   "source": [
    "boost1 = boost.copy()\n",
    "\n",
    "boost1.drop(['Age', 'Job_Level', 'Country', 'Job_Category',\n",
    "                  'Job_Group_Factorized'], axis = 1, inplace = True)\n",
    "\n",
    "boost1 = pd.get_dummies(boost1, columns = ['Gender', 'Region', 'Compensation_Grade', \n",
    "                                                            'Marital_Status', 'Location', 'Ethnicity'])\n",
    "\n",
    "X = boost1.drop('Status', axis = 1)\n",
    "y = boost1['Status']\n",
    "\n",
    "print(boost1.shape)\n",
    "boost1.head()"
   ]
  },
  {
   "cell_type": "code",
   "execution_count": null,
   "id": "2cc7c835",
   "metadata": {
    "executionInfo": {
     "elapsed": 4,
     "status": "ok",
     "timestamp": 1646102910663,
     "user": {
      "displayName": "Sara Tanabe",
      "photoUrl": "https://lh3.googleusercontent.com/a/default-user=s64",
      "userId": "01325243002204882362"
     },
     "user_tz": 420
    },
    "id": "2cc7c835"
   },
   "outputs": [],
   "source": [
    "# Train, Test split; X and Y\n",
    "train, test = train_test_split(boost1, test_size=0.3, random_state=13)\n",
    "X_train = train.loc[:, train.columns !='Status']\n",
    "X_test = test.loc[:, test.columns !='Status']\n",
    "y_train = train.loc[:, 'Status']\n",
    "y_test = test.loc[:, 'Status']"
   ]
  },
  {
   "cell_type": "code",
   "execution_count": null,
   "id": "04a2d106",
   "metadata": {
    "executionInfo": {
     "elapsed": 13616,
     "status": "ok",
     "timestamp": 1646102924276,
     "user": {
      "displayName": "Sara Tanabe",
      "photoUrl": "https://lh3.googleusercontent.com/a/default-user=s64",
      "userId": "01325243002204882362"
     },
     "user_tz": 420
    },
    "id": "04a2d106"
   },
   "outputs": [],
   "source": [
    "# Instantiate the model, fit model on the data\n",
    "clf = GradientBoostingClassifier(loss='deviance', learning_rate = 1.0, n_estimators=100, \n",
    "    subsample=1.0, criterion='friedman_mse', max_depth=3, \n",
    "    random_state=13, verbose=0).fit(X_train, y_train)"
   ]
  },
  {
   "cell_type": "code",
   "execution_count": null,
   "id": "c0b95239",
   "metadata": {
    "colab": {
     "base_uri": "https://localhost:8080/"
    },
    "executionInfo": {
     "elapsed": 16,
     "status": "ok",
     "timestamp": 1646102924277,
     "user": {
      "displayName": "Sara Tanabe",
      "photoUrl": "https://lh3.googleusercontent.com/a/default-user=s64",
      "userId": "01325243002204882362"
     },
     "user_tz": 420
    },
    "id": "c0b95239",
    "outputId": "b32e1a9b-329b-472b-8311-ff15b52be0e3"
   },
   "outputs": [],
   "source": [
    "# Model performance\n",
    "predictions = clf.predict(X_test)\n",
    "probas = clf.predict_proba(X_test)[:,1]\n",
    "\n",
    "print(\"Confusion Matrix:\")\n",
    "print(confusion_matrix(y_test, predictions))\n",
    "\n",
    "print(\"Classification Report\")\n",
    "print(classification_report(y_test, predictions))"
   ]
  },
  {
   "cell_type": "code",
   "execution_count": null,
   "id": "52278f49",
   "metadata": {
    "colab": {
     "base_uri": "https://localhost:8080/"
    },
    "executionInfo": {
     "elapsed": 415,
     "status": "ok",
     "timestamp": 1646102924678,
     "user": {
      "displayName": "Sara Tanabe",
      "photoUrl": "https://lh3.googleusercontent.com/a/default-user=s64",
      "userId": "01325243002204882362"
     },
     "user_tz": 420
    },
    "id": "52278f49",
    "outputId": "ee725343-8739-432b-e215-ddab34f1dc48"
   },
   "outputs": [],
   "source": [
    "# AUC Score\n",
    "roc_auc_score(y_test, clf.predict_proba(X_test)[:, 1])"
   ]
  },
  {
   "cell_type": "code",
   "execution_count": null,
   "id": "bad9be26",
   "metadata": {
    "colab": {
     "base_uri": "https://localhost:8080/",
     "height": 0
    },
    "executionInfo": {
     "elapsed": 6,
     "status": "ok",
     "timestamp": 1646102924678,
     "user": {
      "displayName": "Sara Tanabe",
      "photoUrl": "https://lh3.googleusercontent.com/a/default-user=s64",
      "userId": "01325243002204882362"
     },
     "user_tz": 420
    },
    "id": "bad9be26",
    "outputId": "58a5326f-20ea-4d5f-a150-9eeec4a3c7ff"
   },
   "outputs": [],
   "source": [
    "# ROC Curve\n",
    "display = RocCurveDisplay.from_predictions(y_test, probas,\n",
    "                                 drop_intermediate=False, name='Churn')"
   ]
  },
  {
   "cell_type": "code",
   "execution_count": null,
   "id": "77f40e86",
   "metadata": {
    "colab": {
     "base_uri": "https://localhost:8080/",
     "height": 0
    },
    "executionInfo": {
     "elapsed": 489,
     "status": "ok",
     "timestamp": 1646102925163,
     "user": {
      "displayName": "Sara Tanabe",
      "photoUrl": "https://lh3.googleusercontent.com/a/default-user=s64",
      "userId": "01325243002204882362"
     },
     "user_tz": 420
    },
    "id": "77f40e86",
    "outputId": "8410b1cf-99da-43ce-c987-c22b956c691c"
   },
   "outputs": [],
   "source": [
    "# Build plots to understand the features\n",
    "feat_series = pd.Series(clf.feature_importances_, index=X_test.columns).nlargest(10)\n",
    "feature_importances = pd.Series.to_frame(feat_series)\n",
    "plt = feature_importances.plot.barh(title=\"Features of Importance\", legend=0,\n",
    "                             xlabel=\"Features\",\n",
    "                             ylabel=\"Mean Gini Index Reduction\",\n",
    "                             );\n",
    "plt.invert_yaxis()"
   ]
  },
  {
   "cell_type": "markdown",
   "id": "46605f09",
   "metadata": {
    "id": "46605f09"
   },
   "source": [
    "#### Model 2 - Age Continuous, Compensation Grade, Location"
   ]
  },
  {
   "cell_type": "code",
   "execution_count": null,
   "id": "8eee9383",
   "metadata": {
    "colab": {
     "base_uri": "https://localhost:8080/"
    },
    "executionInfo": {
     "elapsed": 6,
     "status": "ok",
     "timestamp": 1646102925164,
     "user": {
      "displayName": "Sara Tanabe",
      "photoUrl": "https://lh3.googleusercontent.com/a/default-user=s64",
      "userId": "01325243002204882362"
     },
     "user_tz": 420
    },
    "id": "8eee9383",
    "outputId": "35ef2ea4-89fa-462b-cecf-b06736ffa2ca"
   },
   "outputs": [],
   "source": [
    "boost.columns"
   ]
  },
  {
   "cell_type": "code",
   "execution_count": null,
   "id": "477d7c8e",
   "metadata": {
    "colab": {
     "base_uri": "https://localhost:8080/",
     "height": 0
    },
    "executionInfo": {
     "elapsed": 338,
     "status": "ok",
     "timestamp": 1646102925498,
     "user": {
      "displayName": "Sara Tanabe",
      "photoUrl": "https://lh3.googleusercontent.com/a/default-user=s64",
      "userId": "01325243002204882362"
     },
     "user_tz": 420
    },
    "id": "477d7c8e",
    "outputId": "bd7bd48f-b530-4b5f-ea71-e9eeddb3acd9"
   },
   "outputs": [],
   "source": [
    "boost2 = boost.copy()\n",
    "\n",
    "boost2.drop(['Age_Buckets_Factorized', 'Country', 'Job_Group_Factorized',\n",
    "                     'Compensation_Grade'], axis = 1, inplace = True)\n",
    "\n",
    "boost2 = pd.get_dummies(boost2, columns = ['Gender', 'Region', 'Job_Category',   \n",
    "                                                            'Marital_Status', 'Location', \n",
    "                                                           'Job_Level', 'Ethnicity'])\n",
    "\n",
    "X = boost2.drop('Status', axis = 1)\n",
    "y = boost2['Status']\n",
    "\n",
    "print(boost2.shape)\n",
    "boost2.head()"
   ]
  },
  {
   "cell_type": "code",
   "execution_count": null,
   "id": "1fad0008",
   "metadata": {
    "executionInfo": {
     "elapsed": 4,
     "status": "ok",
     "timestamp": 1646102925498,
     "user": {
      "displayName": "Sara Tanabe",
      "photoUrl": "https://lh3.googleusercontent.com/a/default-user=s64",
      "userId": "01325243002204882362"
     },
     "user_tz": 420
    },
    "id": "1fad0008"
   },
   "outputs": [],
   "source": [
    "# Train, Test split; X and Y\n",
    "train, test = train_test_split(boost2, test_size=0.3, random_state=13)\n",
    "X_train = train.loc[:, train.columns !='Status']\n",
    "X_test = test.loc[:, test.columns !='Status']\n",
    "y_train = train.loc[:, 'Status']\n",
    "y_test = test.loc[:, 'Status']"
   ]
  },
  {
   "cell_type": "code",
   "execution_count": null,
   "id": "64b50617",
   "metadata": {
    "executionInfo": {
     "elapsed": 11158,
     "status": "ok",
     "timestamp": 1646102936653,
     "user": {
      "displayName": "Sara Tanabe",
      "photoUrl": "https://lh3.googleusercontent.com/a/default-user=s64",
      "userId": "01325243002204882362"
     },
     "user_tz": 420
    },
    "id": "64b50617"
   },
   "outputs": [],
   "source": [
    "# Instantiate the model, fit model on the data\n",
    "clf2 = GradientBoostingClassifier(loss='deviance', learning_rate = 1.0, n_estimators=100, \n",
    "    subsample=1.0, criterion='friedman_mse', max_depth=3, \n",
    "    random_state=13, verbose=0).fit(X_train, y_train)"
   ]
  },
  {
   "cell_type": "code",
   "execution_count": null,
   "id": "45de8a39",
   "metadata": {
    "colab": {
     "base_uri": "https://localhost:8080/"
    },
    "executionInfo": {
     "elapsed": 263,
     "status": "ok",
     "timestamp": 1646102936914,
     "user": {
      "displayName": "Sara Tanabe",
      "photoUrl": "https://lh3.googleusercontent.com/a/default-user=s64",
      "userId": "01325243002204882362"
     },
     "user_tz": 420
    },
    "id": "45de8a39",
    "outputId": "fdfba262-879f-4ece-d485-82fcabfa0460"
   },
   "outputs": [],
   "source": [
    "# Model performance\n",
    "predictions = clf2.predict(X_test)\n",
    "probas = clf2.predict_proba(X_test)[:,1]\n",
    "\n",
    "print(\"Confusion Matrix:\")\n",
    "print(confusion_matrix(y_test, predictions))\n",
    "\n",
    "print(\"Classification Report\")\n",
    "print(classification_report(y_test, predictions))"
   ]
  },
  {
   "cell_type": "code",
   "execution_count": null,
   "id": "cd648450",
   "metadata": {
    "colab": {
     "base_uri": "https://localhost:8080/"
    },
    "executionInfo": {
     "elapsed": 4,
     "status": "ok",
     "timestamp": 1646102936915,
     "user": {
      "displayName": "Sara Tanabe",
      "photoUrl": "https://lh3.googleusercontent.com/a/default-user=s64",
      "userId": "01325243002204882362"
     },
     "user_tz": 420
    },
    "id": "cd648450",
    "outputId": "2c38d756-26ca-4620-8bf7-10af82ea3a8e"
   },
   "outputs": [],
   "source": [
    "# AUC Score\n",
    "roc_auc_score(y_test, clf2.predict_proba(X_test)[:, 1])"
   ]
  },
  {
   "cell_type": "code",
   "execution_count": null,
   "id": "28a9d9eb",
   "metadata": {
    "colab": {
     "base_uri": "https://localhost:8080/",
     "height": 0
    },
    "executionInfo": {
     "elapsed": 359,
     "status": "ok",
     "timestamp": 1646102937271,
     "user": {
      "displayName": "Sara Tanabe",
      "photoUrl": "https://lh3.googleusercontent.com/a/default-user=s64",
      "userId": "01325243002204882362"
     },
     "user_tz": 420
    },
    "id": "28a9d9eb",
    "outputId": "8f87b99e-a2bd-46ff-e309-9b397b701a80"
   },
   "outputs": [],
   "source": [
    "# ROC Curve\n",
    "display = RocCurveDisplay.from_predictions(y_test, probas,\n",
    "                                 drop_intermediate=False, name='Churn')"
   ]
  },
  {
   "cell_type": "code",
   "execution_count": null,
   "id": "7d96e7f8",
   "metadata": {
    "colab": {
     "base_uri": "https://localhost:8080/",
     "height": 0
    },
    "executionInfo": {
     "elapsed": 453,
     "status": "ok",
     "timestamp": 1646102937721,
     "user": {
      "displayName": "Sara Tanabe",
      "photoUrl": "https://lh3.googleusercontent.com/a/default-user=s64",
      "userId": "01325243002204882362"
     },
     "user_tz": 420
    },
    "id": "7d96e7f8",
    "outputId": "28c0a143-0a85-4e33-bb0d-25c3f654ecb6"
   },
   "outputs": [],
   "source": [
    "# Build plots to understand the features\n",
    "feat_series = pd.Series(clf2.feature_importances_, index=X_test.columns).nlargest(10)\n",
    "feature_importances = pd.Series.to_frame(feat_series)\n",
    "plt = feature_importances.plot.barh(title=\"Features of Importance\", legend=0,\n",
    "                             xlabel=\"Features\",\n",
    "                             ylabel=\"Mean Gini Index Reduction\",\n",
    "                             );\n",
    "plt.invert_yaxis()"
   ]
  },
  {
   "cell_type": "markdown",
   "id": "c9b9ab34",
   "metadata": {
    "id": "c9b9ab34"
   },
   "source": [
    "#### Model 3 - Bucketed Age, Compensation Grade, Country"
   ]
  },
  {
   "cell_type": "code",
   "execution_count": null,
   "id": "67fec850",
   "metadata": {
    "colab": {
     "base_uri": "https://localhost:8080/",
     "height": 389
    },
    "executionInfo": {
     "elapsed": 275,
     "status": "ok",
     "timestamp": 1646102937992,
     "user": {
      "displayName": "Sara Tanabe",
      "photoUrl": "https://lh3.googleusercontent.com/a/default-user=s64",
      "userId": "01325243002204882362"
     },
     "user_tz": 420
    },
    "id": "67fec850",
    "outputId": "5bfebde7-b6a1-483e-c54d-a06622eca408"
   },
   "outputs": [],
   "source": [
    "boost3 = boost.copy()\n",
    "\n",
    "boost3.drop(['Age', 'Location', 'Job_Category', 'Compensation_Grade',\n",
    "                  ], axis = 1, inplace = True)\n",
    "\n",
    "boost3 = pd.get_dummies(boost3, columns = ['Gender', 'Region', \n",
    "                                                           'Job_Level', 'Job_Group_Factorized', \n",
    "                                                            'Marital_Status', 'Country', 'Ethnicity'])\n",
    "\n",
    "X = boost3.drop('Status', axis = 1)\n",
    "y = boost3['Status']\n",
    "\n",
    "print(boost3.shape)\n",
    "boost3.head()"
   ]
  },
  {
   "cell_type": "code",
   "execution_count": null,
   "id": "ff8ec690",
   "metadata": {
    "executionInfo": {
     "elapsed": 4,
     "status": "ok",
     "timestamp": 1646102937992,
     "user": {
      "displayName": "Sara Tanabe",
      "photoUrl": "https://lh3.googleusercontent.com/a/default-user=s64",
      "userId": "01325243002204882362"
     },
     "user_tz": 420
    },
    "id": "ff8ec690"
   },
   "outputs": [],
   "source": [
    "# Train, Test split; X and Y\n",
    "train, test = train_test_split(boost3, test_size=0.3, random_state=13)\n",
    "X_train = train.loc[:, train.columns !='Status']\n",
    "X_test = test.loc[:, test.columns !='Status']\n",
    "y_train = train.loc[:, 'Status']\n",
    "y_test = test.loc[:, 'Status']"
   ]
  },
  {
   "cell_type": "code",
   "execution_count": null,
   "id": "812b54a0",
   "metadata": {
    "executionInfo": {
     "elapsed": 9808,
     "status": "ok",
     "timestamp": 1646102947797,
     "user": {
      "displayName": "Sara Tanabe",
      "photoUrl": "https://lh3.googleusercontent.com/a/default-user=s64",
      "userId": "01325243002204882362"
     },
     "user_tz": 420
    },
    "id": "812b54a0"
   },
   "outputs": [],
   "source": [
    "# Instantiate the model, fit model on the data\n",
    "clf3 = GradientBoostingClassifier(loss='deviance', learning_rate = 1.0, n_estimators=100, \n",
    "    subsample=1.0, criterion='friedman_mse', max_depth=3, \n",
    "    random_state=13, verbose=0).fit(X_train, y_train)"
   ]
  },
  {
   "cell_type": "code",
   "execution_count": null,
   "id": "a71d1cfe",
   "metadata": {
    "colab": {
     "base_uri": "https://localhost:8080/"
    },
    "executionInfo": {
     "elapsed": 297,
     "status": "ok",
     "timestamp": 1646102948082,
     "user": {
      "displayName": "Sara Tanabe",
      "photoUrl": "https://lh3.googleusercontent.com/a/default-user=s64",
      "userId": "01325243002204882362"
     },
     "user_tz": 420
    },
    "id": "a71d1cfe",
    "outputId": "69c02f7f-7641-44e3-e36c-fb855b87db00"
   },
   "outputs": [],
   "source": [
    "# Model performance\n",
    "predictions = clf3.predict(X_test)\n",
    "probas = clf3.predict_proba(X_test)[:,1]\n",
    "\n",
    "print(\"Confusion Matrix:\")\n",
    "print(confusion_matrix(y_test, predictions))\n",
    "\n",
    "print(\"Classification Report\")\n",
    "print(classification_report(y_test, predictions))"
   ]
  },
  {
   "cell_type": "code",
   "execution_count": null,
   "id": "3ee24b25",
   "metadata": {
    "colab": {
     "base_uri": "https://localhost:8080/"
    },
    "executionInfo": {
     "elapsed": 4,
     "status": "ok",
     "timestamp": 1646102948083,
     "user": {
      "displayName": "Sara Tanabe",
      "photoUrl": "https://lh3.googleusercontent.com/a/default-user=s64",
      "userId": "01325243002204882362"
     },
     "user_tz": 420
    },
    "id": "3ee24b25",
    "outputId": "57924c6e-5167-4319-8ef0-32a0fc05ee4e"
   },
   "outputs": [],
   "source": [
    "# AUC Score\n",
    "roc_auc_score(y_test, clf3.predict_proba(X_test)[:, 1])"
   ]
  },
  {
   "cell_type": "code",
   "execution_count": null,
   "id": "2a5f2043",
   "metadata": {
    "colab": {
     "base_uri": "https://localhost:8080/",
     "height": 449
    },
    "executionInfo": {
     "elapsed": 399,
     "status": "ok",
     "timestamp": 1646102948479,
     "user": {
      "displayName": "Sara Tanabe",
      "photoUrl": "https://lh3.googleusercontent.com/a/default-user=s64",
      "userId": "01325243002204882362"
     },
     "user_tz": 420
    },
    "id": "2a5f2043",
    "outputId": "d81b967c-d16b-4e98-cfb2-11090acbae73"
   },
   "outputs": [],
   "source": [
    "# ROC Curve\n",
    "display = RocCurveDisplay.from_predictions(y_test, probas,\n",
    "                                 drop_intermediate=False, name='Churn')"
   ]
  },
  {
   "cell_type": "code",
   "execution_count": null,
   "id": "ebe4ec14",
   "metadata": {
    "colab": {
     "base_uri": "https://localhost:8080/",
     "height": 452
    },
    "executionInfo": {
     "elapsed": 508,
     "status": "ok",
     "timestamp": 1646102948984,
     "user": {
      "displayName": "Sara Tanabe",
      "photoUrl": "https://lh3.googleusercontent.com/a/default-user=s64",
      "userId": "01325243002204882362"
     },
     "user_tz": 420
    },
    "id": "ebe4ec14",
    "outputId": "bdf53bbe-9cd0-4d24-b636-d8de67218f23"
   },
   "outputs": [],
   "source": [
    "# Build plots to understand the features\n",
    "feat_series = pd.Series(clf3.feature_importances_, index=X_test.columns).nlargest(20)\n",
    "feature_importances = pd.Series.to_frame(feat_series)\n",
    "plt = feature_importances.plot.barh(title=\"Features of Importance\", legend=0,\n",
    "                             xlabel=\"Features\",\n",
    "                             ylabel=\"Mean Gini Index Reduction\",\n",
    "                             );\n",
    "plt.invert_yaxis()"
   ]
  },
  {
   "cell_type": "markdown",
   "id": "325c1536",
   "metadata": {
    "id": "325c1536"
   },
   "source": [
    "### Gradient Boosting Predictions on Active Employees Dataset\n",
    "#### Active Employees ONLY"
   ]
  },
  {
   "cell_type": "code",
   "execution_count": null,
   "id": "8d107060",
   "metadata": {
    "executionInfo": {
     "elapsed": 5,
     "status": "ok",
     "timestamp": 1646102948984,
     "user": {
      "displayName": "Sara Tanabe",
      "photoUrl": "https://lh3.googleusercontent.com/a/default-user=s64",
      "userId": "01325243002204882362"
     },
     "user_tz": 420
    },
    "id": "8d107060"
   },
   "outputs": [],
   "source": [
    "boost4 = d.clean.preprocess_two.copy()\n",
    "boost4.dropna(axis=0, how='any', inplace=True)"
   ]
  },
  {
   "cell_type": "code",
   "execution_count": null,
   "id": "86bc9266",
   "metadata": {
    "executionInfo": {
     "elapsed": 385,
     "status": "ok",
     "timestamp": 1646102949365,
     "user": {
      "displayName": "Sara Tanabe",
      "photoUrl": "https://lh3.googleusercontent.com/a/default-user=s64",
      "userId": "01325243002204882362"
     },
     "user_tz": 420
    },
    "id": "86bc9266"
   },
   "outputs": [],
   "source": [
    "\n",
    "boost4.drop(['Age', 'Job_Level', 'Country', 'Job_Category',\n",
    "                  'Job_Group_Factorized'], axis = 1, inplace = True)\n",
    "\n",
    "boost4 = pd.get_dummies(boost4, columns = ['Gender', 'Region', 'Compensation_Grade', \n",
    "                                                            'Marital_Status', 'Location', 'Ethnicity'])"
   ]
  },
  {
   "cell_type": "code",
   "execution_count": null,
   "id": "1a258a53",
   "metadata": {
    "colab": {
     "base_uri": "https://localhost:8080/"
    },
    "executionInfo": {
     "elapsed": 11,
     "status": "ok",
     "timestamp": 1646102949366,
     "user": {
      "displayName": "Sara Tanabe",
      "photoUrl": "https://lh3.googleusercontent.com/a/default-user=s64",
      "userId": "01325243002204882362"
     },
     "user_tz": 420
    },
    "id": "1a258a53",
    "outputId": "9c221000-dc0b-4232-b3f4-9e7d049c5924"
   },
   "outputs": [],
   "source": [
    "boost4['Employee_Status'].value_counts()"
   ]
  },
  {
   "cell_type": "code",
   "execution_count": null,
   "id": "8be76b1b",
   "metadata": {
    "executionInfo": {
     "elapsed": 7,
     "status": "ok",
     "timestamp": 1646102949366,
     "user": {
      "displayName": "Sara Tanabe",
      "photoUrl": "https://lh3.googleusercontent.com/a/default-user=s64",
      "userId": "01325243002204882362"
     },
     "user_tz": 420
    },
    "id": "8be76b1b"
   },
   "outputs": [],
   "source": [
    "boost4.drop('Employee_Status', axis = 1, inplace=True)"
   ]
  },
  {
   "cell_type": "code",
   "execution_count": null,
   "id": "5fa246e5",
   "metadata": {
    "colab": {
     "base_uri": "https://localhost:8080/",
     "height": 389
    },
    "executionInfo": {
     "elapsed": 7,
     "status": "ok",
     "timestamp": 1646102949366,
     "user": {
      "displayName": "Sara Tanabe",
      "photoUrl": "https://lh3.googleusercontent.com/a/default-user=s64",
      "userId": "01325243002204882362"
     },
     "user_tz": 420
    },
    "id": "5fa246e5",
    "outputId": "0f2e6dbb-b642-4d9c-d7b8-f5594ff12ded"
   },
   "outputs": [],
   "source": [
    "print(boost4.shape)\n",
    "boost4.head()"
   ]
  },
  {
   "cell_type": "code",
   "execution_count": null,
   "id": "8d01c195",
   "metadata": {
    "executionInfo": {
     "elapsed": 6,
     "status": "ok",
     "timestamp": 1646102949367,
     "user": {
      "displayName": "Sara Tanabe",
      "photoUrl": "https://lh3.googleusercontent.com/a/default-user=s64",
      "userId": "01325243002204882362"
     },
     "user_tz": 420
    },
    "id": "8d01c195"
   },
   "outputs": [],
   "source": [
    "# Split X and Y\n",
    "X = boost4.loc[:, boost4.columns !='Status']\n",
    "y = boost4.loc[:, 'Status']"
   ]
  },
  {
   "cell_type": "code",
   "execution_count": null,
   "id": "f1c365cf",
   "metadata": {
    "executionInfo": {
     "elapsed": 611,
     "status": "ok",
     "timestamp": 1646102949973,
     "user": {
      "displayName": "Sara Tanabe",
      "photoUrl": "https://lh3.googleusercontent.com/a/default-user=s64",
      "userId": "01325243002204882362"
     },
     "user_tz": 420
    },
    "id": "f1c365cf"
   },
   "outputs": [],
   "source": [
    "# generate predictions\n",
    "Churn_Flag = clf.predict(X)\n",
    "Churn_Prob = clf.predict_proba(X)[:,1]"
   ]
  },
  {
   "cell_type": "code",
   "execution_count": null,
   "id": "75dcda2d",
   "metadata": {
    "executionInfo": {
     "elapsed": 9,
     "status": "ok",
     "timestamp": 1646102949975,
     "user": {
      "displayName": "Sara Tanabe",
      "photoUrl": "https://lh3.googleusercontent.com/a/default-user=s64",
      "userId": "01325243002204882362"
     },
     "user_tz": 420
    },
    "id": "75dcda2d"
   },
   "outputs": [],
   "source": [
    "boost4['Churn_Flag'] = Churn_Flag\n",
    "boost4['Churn_Prob'] = Churn_Prob"
   ]
  },
  {
   "cell_type": "code",
   "execution_count": null,
   "id": "4a22be14",
   "metadata": {
    "executionInfo": {
     "elapsed": 9,
     "status": "ok",
     "timestamp": 1646102949976,
     "user": {
      "displayName": "Sara Tanabe",
      "photoUrl": "https://lh3.googleusercontent.com/a/default-user=s64",
      "userId": "01325243002204882362"
     },
     "user_tz": 420
    },
    "id": "4a22be14"
   },
   "outputs": [],
   "source": [
    "boost4 = boost4.loc[:, ['Churn_Flag', 'Churn_Prob'] ]"
   ]
  },
  {
   "cell_type": "code",
   "execution_count": null,
   "id": "a8bbb3de",
   "metadata": {
    "colab": {
     "base_uri": "https://localhost:8080/",
     "height": 237
    },
    "executionInfo": {
     "elapsed": 8,
     "status": "ok",
     "timestamp": 1646102949976,
     "user": {
      "displayName": "Sara Tanabe",
      "photoUrl": "https://lh3.googleusercontent.com/a/default-user=s64",
      "userId": "01325243002204882362"
     },
     "user_tz": 420
    },
    "id": "a8bbb3de",
    "outputId": "fd9d85c8-0a68-4619-ccec-e75e100e5ba4"
   },
   "outputs": [],
   "source": [
    "boost4.head()"
   ]
  }
 ],
 "metadata": {
  "colab": {
   "name": "Seagate_Clean_Official_Gradient_Boosting.ipynb",
   "provenance": []
  },
  "kernelspec": {
   "display_name": "Python 3",
   "language": "python",
   "name": "python3"
  },
  "language_info": {
   "codemirror_mode": {
    "name": "ipython",
    "version": 3
   },
   "file_extension": ".py",
   "mimetype": "text/x-python",
   "name": "python",
   "nbconvert_exporter": "python",
   "pygments_lexer": "ipython3",
   "version": "3.8.8"
  }
 },
 "nbformat": 4,
 "nbformat_minor": 5
}
