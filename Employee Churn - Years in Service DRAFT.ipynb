{
 "cells": [
  {
   "cell_type": "markdown",
   "id": "7216204a",
   "metadata": {},
   "source": [
    "Due to time constraints on this project, this was a last ditch attempt to begin predicting years in service and not just whether or not an employee would churn.  I was not able to finalize the optimization of this model - it was more just a start.  Since this is in no way finalized, it is not commented and may read a bit confusing"
   ]
  },
  {
   "cell_type": "code",
   "execution_count": null,
   "id": "7c895a5e",
   "metadata": {},
   "outputs": [],
   "source": [
    "from sklearn.linear_model import LinearRegression\n",
    "from sklearn.model_selection import train_test_split\n",
    "from sklearn.metrics import mean_squared_error\n",
    "\n",
    "X_train, X_test, y_train, y_test = train_test_split(X, y, train_size=0.8, random_state=2)\n",
    "\n",
    "model = LinearRegression()\n",
    "model.fit(X_train, y_train)\n",
    "\n",
    "pred = model.predict(X_test)\n",
    "\n",
    "rmse = mean_squared_error(y_test, pred)\n",
    "r_sq_train = model.score(X_train, y_train)\n",
    "\n",
    "print(f'R-Squared of model: {r_sq_train}')\n",
    "print(f'RMSE: {rmse}')"
   ]
  },
  {
   "cell_type": "code",
   "execution_count": null,
   "id": "398145c2",
   "metadata": {},
   "outputs": [],
   "source": [
    "from sklearn.ensemble import GradientBoostingRegressor\n",
    "\n",
    "boost1 = d.clean.preprocess.copy()\n",
    "\n",
    "boost1.drop(['Age_Buckets_Factorized', 'Job_Level', 'Country', 'Job_Category', \n",
    "                  'Job_Group_Factorized'], axis = 1, inplace = True)\n",
    "\n",
    "boost1 = pd.get_dummies(boost1, columns = ['Gender', 'Region', 'Compensation_Grade', \n",
    "                                                            'Marital_Status', 'Location', 'Ethnicity'])\n",
    "\n",
    "X = boost1.drop('Years_in_Service_(Continuous_Service_Date)', axis = 1)\n",
    "y = boost1['Years_in_Service_(Continuous_Service_Date)']\n",
    "\n",
    "print(boost1.shape)\n",
    "boost1.head()"
   ]
  },
  {
   "cell_type": "code",
   "execution_count": null,
   "id": "473c65cb",
   "metadata": {},
   "outputs": [],
   "source": [
    "X_train, X_test, y_train, y_test = train_test_split(X, y, train_size=0.8, random_state=2)\n",
    "\n",
    "clf = GradientBoostingRegressor(learning_rate = 0.1, n_estimators=100, \n",
    "    subsample=1.0, criterion='friedman_mse', max_depth=3, \n",
    "    random_state=13, verbose=0).fit(X_train, y_train)\n",
    "\n",
    "pred = clf.predict(X_test)\n",
    "\n",
    "rmse = mean_squared_error(y_test, pred)\n",
    "r_sq = clf.score(X_train, y_train)\n",
    "\n",
    "print(f'R-Squared of model: {r_sq}')\n",
    "print(f'RMSE: {rmse}')"
   ]
  },
  {
   "cell_type": "code",
   "execution_count": null,
   "id": "89bc1007",
   "metadata": {},
   "outputs": [],
   "source": [
    "clf = GradientBoostingRegressor(loss = 'huber', learning_rate = 0.1, n_estimators=100, \n",
    "    subsample=1.0, criterion='friedman_mse', max_depth=3, \n",
    "    random_state=13, verbose=0).fit(X_train, y_train)\n",
    "\n",
    "pred = clf.predict(X_test)\n",
    "\n",
    "rmse = mean_squared_error(y_test, pred)\n",
    "r_sq = clf.score(X_train, y_train)\n",
    "\n",
    "print(f'R-Squared of model: {r_sq}')\n",
    "print(f'RMSE: {rmse}')"
   ]
  },
  {
   "cell_type": "code",
   "execution_count": null,
   "id": "7f1ed444",
   "metadata": {},
   "outputs": [],
   "source": [
    "clf = GradientBoostingRegressor(loss = 'huber', learning_rate = 1.0, n_estimators=100, \n",
    "    subsample=1.0, criterion='friedman_mse', max_depth=3, \n",
    "    random_state=13, verbose=0).fit(X_train, y_train)\n",
    "\n",
    "pred = clf.predict(X_test)\n",
    "\n",
    "rmse = mean_squared_error(y_test, pred)\n",
    "r_sq = clf.score(X_train, y_train)\n",
    "\n",
    "print(f'R-Squared of model: {r_sq}')\n",
    "print(f'RMSE: {rmse}')"
   ]
  },
  {
   "cell_type": "code",
   "execution_count": null,
   "id": "3086e4f8",
   "metadata": {},
   "outputs": [],
   "source": [
    "clf = GradientBoostingRegressor(loss = 'huber', learning_rate = 0.01, n_estimators=100, \n",
    "    subsample=1.0, criterion='friedman_mse', max_depth=3, \n",
    "    random_state=13, verbose=0).fit(X_train, y_train)\n",
    "\n",
    "pred = clf.predict(X_test)\n",
    "\n",
    "rmse = mean_squared_error(y_test, pred)\n",
    "r_sq = clf.score(X_train, y_train)\n",
    "\n",
    "print(f'R-Squared of model: {r_sq}')\n",
    "print(f'RMSE: {rmse}')"
   ]
  },
  {
   "cell_type": "code",
   "execution_count": null,
   "id": "074d1910",
   "metadata": {},
   "outputs": [],
   "source": [
    "clf = GradientBoostingRegressor(loss = 'huber', learning_rate = 10.0, n_estimators=100, \n",
    "    subsample=1.0, criterion='friedman_mse', max_depth=3, \n",
    "    random_state=13, verbose=0).fit(X_train, y_train)\n",
    "\n",
    "pred = clf.predict(X_test)\n",
    "\n",
    "rmse = mean_squared_error(y_test, pred)\n",
    "r_sq = clf.score(X_train, y_train)\n",
    "\n",
    "print(f'R-Squared of model: {r_sq}')\n",
    "print(f'RMSE: {rmse}')"
   ]
  },
  {
   "cell_type": "code",
   "execution_count": null,
   "id": "b4166923",
   "metadata": {},
   "outputs": [],
   "source": [
    "clf = GradientBoostingRegressor(learning_rate = 10.0, n_estimators=100, \n",
    "    subsample=1.0, criterion='friedman_mse', max_depth=3, \n",
    "    random_state=13, verbose=0).fit(X_train, y_train)\n",
    "\n",
    "pred = clf.predict(X_test)\n",
    "\n",
    "rmse = mean_squared_error(y_test, pred)\n",
    "r_sq = clf.score(X_train, y_train)\n",
    "\n",
    "print(f'R-Squared of model: {r_sq}')\n",
    "print(f'RMSE: {rmse}')"
   ]
  },
  {
   "cell_type": "code",
   "execution_count": null,
   "id": "6faad3cf",
   "metadata": {},
   "outputs": [],
   "source": [
    "clf = GradientBoostingRegressor(learning_rate = 1.0, n_estimators=500, \n",
    "    subsample=1.0, criterion='friedman_mse', max_depth=3, \n",
    "    random_state=13, verbose=0).fit(X_train, y_train)\n",
    "\n",
    "pred = clf.predict(X_test)\n",
    "\n",
    "rmse = mean_squared_error(y_test, pred)\n",
    "r_sq = clf.score(X_train, y_train)\n",
    "\n",
    "print(f'R-Squared of model: {r_sq}')\n",
    "print(f'RMSE: {rmse}')"
   ]
  },
  {
   "cell_type": "code",
   "execution_count": null,
   "id": "fe3fbd9e",
   "metadata": {},
   "outputs": [],
   "source": [
    "clf = GradientBoostingRegressor(loss = 'huber', learning_rate = 1.0, n_estimators=500, \n",
    "    subsample=1.0, criterion='friedman_mse', max_depth=3, \n",
    "    random_state=13, verbose=0).fit(X_train, y_train)\n",
    "\n",
    "pred = clf.predict(X_test)\n",
    "\n",
    "rmse = mean_squared_error(y_test, pred)\n",
    "r_sq = clf.score(X_train, y_train)\n",
    "\n",
    "print(f'R-Squared of model: {r_sq}')\n",
    "print(f'RMSE: {rmse}')"
   ]
  },
  {
   "cell_type": "code",
   "execution_count": null,
   "id": "383a2852",
   "metadata": {},
   "outputs": [],
   "source": [
    "clf = GradientBoostingRegressor(learning_rate = 1.0, n_estimators=500, \n",
    "    subsample=0.8, criterion='friedman_mse', max_depth=3, \n",
    "    random_state=13, verbose=0).fit(X_train, y_train)\n",
    "\n",
    "pred = clf.predict(X_test)\n",
    "\n",
    "rmse = mean_squared_error(y_test, pred)\n",
    "r_sq = clf.score(X_train, y_train)\n",
    "\n",
    "print(f'R-Squared of model: {r_sq}')\n",
    "print(f'RMSE: {rmse}')"
   ]
  },
  {
   "cell_type": "code",
   "execution_count": null,
   "id": "8c7ed7d7",
   "metadata": {},
   "outputs": [],
   "source": [
    "clf = GradientBoostingRegressor(learning_rate = 1.0, n_estimators=500, \n",
    "    subsample=0.5, criterion='friedman_mse', max_depth=3, \n",
    "    random_state=13, verbose=0).fit(X_train, y_train)\n",
    "\n",
    "pred = clf.predict(X_test)\n",
    "\n",
    "rmse = mean_squared_error(y_test, pred)\n",
    "r_sq = clf.score(X_train, y_train)\n",
    "\n",
    "print(f'R-Squared of model: {r_sq}')\n",
    "print(f'RMSE: {rmse}')"
   ]
  },
  {
   "cell_type": "code",
   "execution_count": null,
   "id": "e508adbc",
   "metadata": {},
   "outputs": [],
   "source": [
    "clf = GradientBoostingRegressor(learning_rate = 1.0, n_estimators=500, \n",
    "    subsample=0.2, criterion='friedman_mse', max_depth=3, \n",
    "    random_state=13, verbose=0).fit(X_train, y_train)\n",
    "\n",
    "pred = clf.predict(X_test)\n",
    "\n",
    "rmse = mean_squared_error(y_test, pred)\n",
    "r_sq = clf.score(X_train, y_train)\n",
    "\n",
    "print(f'R-Squared of model: {r_sq}')\n",
    "print(f'RMSE: {rmse}')"
   ]
  },
  {
   "cell_type": "code",
   "execution_count": null,
   "id": "c475240c",
   "metadata": {},
   "outputs": [],
   "source": [
    "clf = GradientBoostingRegressor(learning_rate = 1.0, n_estimators=500, \n",
    "    subsample=1.0, criterion='friedman_mse', max_depth=4, \n",
    "    random_state=13, verbose=0).fit(X_train, y_train)\n",
    "\n",
    "pred = clf.predict(X_test)\n",
    "\n",
    "rmse = mean_squared_error(y_test, pred)\n",
    "r_sq = clf.score(X_train, y_train)\n",
    "\n",
    "print(f'R-Squared of model: {r_sq}')\n",
    "print(f'RMSE: {rmse}')"
   ]
  },
  {
   "cell_type": "code",
   "execution_count": null,
   "id": "0985a8ab",
   "metadata": {},
   "outputs": [],
   "source": [
    "clf = GradientBoostingRegressor(learning_rate = 1.0, n_estimators=500, \n",
    "    subsample=1.0, criterion='friedman_mse', max_depth=5, \n",
    "    random_state=13, verbose=0).fit(X_train, y_train)\n",
    "\n",
    "pred = clf.predict(X_test)\n",
    "\n",
    "rmse = mean_squared_error(y_test, pred)\n",
    "r_sq = clf.score(X_train, y_train)\n",
    "\n",
    "print(f'R-Squared of model: {r_sq}')\n",
    "print(f'RMSE: {rmse}')"
   ]
  },
  {
   "cell_type": "code",
   "execution_count": null,
   "id": "a79bfa4a",
   "metadata": {},
   "outputs": [],
   "source": [
    "clf = GradientBoostingRegressor(learning_rate = 1.0, n_estimators=500, \n",
    "    subsample=1.0, criterion='friedman_mse', max_depth=2, \n",
    "    random_state=13, verbose=0).fit(X_train, y_train)\n",
    "\n",
    "pred = clf.predict(X_test)\n",
    "\n",
    "rmse = mean_squared_error(y_test, pred)\n",
    "r_sq = clf.score(X_train, y_train)\n",
    "\n",
    "print(f'R-Squared of model: {r_sq}')\n",
    "print(f'RMSE: {rmse}')"
   ]
  },
  {
   "cell_type": "code",
   "execution_count": null,
   "id": "a8ff1973",
   "metadata": {},
   "outputs": [],
   "source": [
    "clf = GradientBoostingRegressor(learning_rate = 1.0, n_estimators=700, \n",
    "    subsample=1.0, criterion='friedman_mse', max_depth=3, \n",
    "    random_state=13, verbose=0).fit(X_train, y_train)\n",
    "\n",
    "pred = clf.predict(X_test)\n",
    "\n",
    "rmse = mean_squared_error(y_test, pred)\n",
    "r_sq = clf.score(X_train, y_train)\n",
    "\n",
    "print(f'R-Squared of model: {r_sq}')\n",
    "print(f'RMSE: {rmse}')"
   ]
  },
  {
   "cell_type": "code",
   "execution_count": null,
   "id": "05cb5087",
   "metadata": {},
   "outputs": [],
   "source": [
    "clf = GradientBoostingRegressor(learning_rate = 1.0, n_estimators=500, \n",
    "    subsample=1.0, criterion='friedman_mse', max_depth=3, \n",
    "    random_state=13, verbose=0).fit(X_train, y_train)\n",
    "\n",
    "pred = clf.predict(X_test)\n",
    "\n",
    "rmse = mean_squared_error(y_test, pred)\n",
    "r_sq = clf.score(X_train, y_train)\n",
    "\n",
    "print(f'R-Squared of model: {r_sq}')\n",
    "print(f'RMSE: {rmse}')"
   ]
  },
  {
   "cell_type": "code",
   "execution_count": null,
   "id": "4fc65cf2",
   "metadata": {},
   "outputs": [],
   "source": [
    "feat_series = pd.Series(clf.feature_importances_, index=X_test.columns).nlargest(10)\n",
    "feature_importances = pd.Series.to_frame(feat_series)\n",
    "plt = feature_importances.plot.barh(title=\"Features of Importance\", legend=0,\n",
    "                             xlabel=\"Features\",\n",
    "                             ylabel=\"Mean Gini Index Reduction\",\n",
    "                             );\n",
    "plt.invert_yaxis()"
   ]
  },
  {
   "cell_type": "code",
   "execution_count": null,
   "id": "aa1fdac7",
   "metadata": {},
   "outputs": [],
   "source": [
    "predictions = clf.predict(X)"
   ]
  },
  {
   "cell_type": "code",
   "execution_count": null,
   "id": "73b339e2",
   "metadata": {},
   "outputs": [],
   "source": [
    "churn_predictions = pd.read_csv('binary_predictions.csv')\n",
    "\n",
    "print(churn_predictions.shape)\n",
    "churn_predictions.head()"
   ]
  },
  {
   "cell_type": "code",
   "execution_count": null,
   "id": "40b36962",
   "metadata": {},
   "outputs": [],
   "source": [
    "churn_predictions['Service_Len_Prediction'] = predictions"
   ]
  },
  {
   "cell_type": "code",
   "execution_count": null,
   "id": "51aaea73",
   "metadata": {},
   "outputs": [],
   "source": [
    "churn_predictions.head()"
   ]
  },
  {
   "cell_type": "code",
   "execution_count": null,
   "id": "fc686617",
   "metadata": {},
   "outputs": [],
   "source": [
    "churn_predictions.set_index('GID_anonymized', inplace = True)\n",
    "churn_predictions['Current_Service_Len'] = d.clean.NoNa['Years_in_Service_(Continuous_Service_Date)']\n",
    "churn_predictions['Job_Group'] = d.clean.NoNa['Job_Group']\n",
    "churn_predictions.head()"
   ]
  },
  {
   "cell_type": "code",
   "execution_count": null,
   "id": "5217362e",
   "metadata": {},
   "outputs": [],
   "source": [
    "churn_predictions = churn_predictions[churn_predictions['Churn_Flag'] == 1]\n",
    "churn_predictions.head()"
   ]
  },
  {
   "cell_type": "code",
   "execution_count": null,
   "id": "86dc2723",
   "metadata": {},
   "outputs": [],
   "source": [
    "churn_predictions[churn_predictions['Job_Group'] =='Executive']"
   ]
  },
  {
   "cell_type": "code",
   "execution_count": null,
   "id": "6b37381a",
   "metadata": {},
   "outputs": [],
   "source": [
    "churn_predictions[churn_predictions['Current_Service_Len'] < churn_predictions['Service_Len_Prediction']].shape"
   ]
  },
  {
   "cell_type": "code",
   "execution_count": null,
   "id": "c5ba173e",
   "metadata": {},
   "outputs": [],
   "source": [
    "df = d.copy()\n",
    "\n",
    "df = df[['GID_anonymized', 'Employee_Status']]\n",
    "\n",
    "df.head()"
   ]
  },
  {
   "cell_type": "code",
   "execution_count": null,
   "id": "efd8d684",
   "metadata": {},
   "outputs": [],
   "source": [
    "churn_predictions.reset_index(level = 0, inplace = True)\n",
    "churn_predictions = churn_predictions.merge(df,left_on='GID_anonymized', right_on='GID_anonymized')"
   ]
  },
  {
   "cell_type": "code",
   "execution_count": null,
   "id": "16a94337",
   "metadata": {},
   "outputs": [],
   "source": [
    "actives = churn_predictions[churn_predictions['Employee_Status'] == 'Active']"
   ]
  },
  {
   "cell_type": "code",
   "execution_count": null,
   "id": "1388e7a8",
   "metadata": {},
   "outputs": [],
   "source": [
    "actives.drop('index', axis = 1, inplace = True)"
   ]
  },
  {
   "cell_type": "code",
   "execution_count": null,
   "id": "62615cba",
   "metadata": {},
   "outputs": [],
   "source": [
    "actives.head()"
   ]
  },
  {
   "cell_type": "code",
   "execution_count": null,
   "id": "a85b144e",
   "metadata": {},
   "outputs": [],
   "source": [
    "actives.set_index('GID_anonymized', inplace = True)"
   ]
  },
  {
   "cell_type": "code",
   "execution_count": null,
   "id": "fc21920f",
   "metadata": {},
   "outputs": [],
   "source": [
    "actives.head()"
   ]
  },
  {
   "cell_type": "code",
   "execution_count": null,
   "id": "136526cb",
   "metadata": {
    "scrolled": true
   },
   "outputs": [],
   "source": [
    "actives[actives['Current_Service_Len'] < actives['Service_Len_Prediction']]"
   ]
  },
  {
   "cell_type": "code",
   "execution_count": null,
   "id": "85a66915",
   "metadata": {},
   "outputs": [],
   "source": [
    "churn_predictions[churn_predictions['Job_Group'] =='Executive']"
   ]
  },
  {
   "cell_type": "code",
   "execution_count": null,
   "id": "0c716caf",
   "metadata": {},
   "outputs": [],
   "source": [
    "churn_predictions[churn_predictions['Job_Group'] !='Operators']['Service_Len_Prediction'].mean()"
   ]
  }
 ],
 "metadata": {
  "kernelspec": {
   "display_name": "Python 3",
   "language": "python",
   "name": "python3"
  },
  "language_info": {
   "codemirror_mode": {
    "name": "ipython",
    "version": 3
   },
   "file_extension": ".py",
   "mimetype": "text/x-python",
   "name": "python",
   "nbconvert_exporter": "python",
   "pygments_lexer": "ipython3",
   "version": "3.8.8"
  }
 },
 "nbformat": 4,
 "nbformat_minor": 5
}
